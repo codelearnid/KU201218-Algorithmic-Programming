{
 "cells": [
  {
   "cell_type": "code",
   "execution_count": 4,
   "metadata": {},
   "outputs": [
    {
     "name": "stdout",
     "output_type": "stream",
     "text": [
      "1\n",
      "2\n",
      "ini angaka =  3\n"
     ]
    }
   ],
   "source": [
    "i = 1;\n",
    "print(i);\n",
    "i = 2;\n",
    "print(i);\n",
    "i = 3;\n",
    "print(\"ini angka = \", i);\n"
   ]
  },
  {
   "cell_type": "code",
   "execution_count": 45,
   "metadata": {},
   "outputs": [
    {
     "name": "stdout",
     "output_type": "stream",
     "text": [
      "1\n",
      "2\n",
      "3\n",
      "4\n",
      "5\n",
      "6\n",
      "7\n",
      "8\n",
      "9\n",
      "10\n",
      "11\n",
      "12\n",
      "13\n",
      "14\n",
      "15\n",
      "16\n",
      "17\n",
      "18\n",
      "19\n",
      "20\n",
      "21\n",
      "22\n",
      "23\n",
      "24\n",
      "25\n",
      "26\n",
      "27\n",
      "28\n",
      "29\n",
      "30\n",
      "31\n",
      "32\n",
      "33\n",
      "34\n",
      "35\n",
      "36\n",
      "37\n",
      "38\n",
      "39\n",
      "40\n",
      "41\n",
      "42\n",
      "43\n",
      "44\n",
      "45\n",
      "46\n",
      "47\n",
      "48\n",
      "49\n",
      "50\n",
      "51\n",
      "52\n",
      "53\n",
      "54\n",
      "55\n",
      "56\n",
      "57\n",
      "58\n",
      "59\n",
      "60\n",
      "61\n",
      "62\n",
      "63\n",
      "64\n",
      "65\n",
      "66\n",
      "67\n",
      "68\n",
      "69\n",
      "70\n",
      "71\n",
      "72\n",
      "73\n",
      "74\n",
      "75\n",
      "76\n",
      "77\n",
      "78\n",
      "79\n",
      "80\n",
      "81\n",
      "82\n",
      "83\n",
      "84\n",
      "85\n",
      "86\n",
      "87\n",
      "88\n",
      "89\n",
      "90\n",
      "91\n",
      "92\n",
      "93\n",
      "94\n",
      "95\n",
      "96\n",
      "97\n",
      "98\n",
      "99\n",
      "100\n",
      "selesai\n"
     ]
    }
   ],
   "source": [
    "angka = 1\n",
    "\n",
    "for i in range(100):\n",
    "    print(angka)\n",
    "    angka += 1\n",
    "    \n",
    "print(\"selesai\")\n"
   ]
  },
  {
   "cell_type": "code",
   "execution_count": 8,
   "metadata": {},
   "outputs": [
    {
     "name": "stdout",
     "output_type": "stream",
     "text": [
      "1 sedang belajar algoritama pemrograman\n",
      "2 sedang belajar algoritama pemrograman\n",
      "3 sedang belajar algoritama pemrograman\n",
      "4 sedang belajar algoritama pemrograman\n",
      "5 sedang belajar algoritama pemrograman\n",
      "6 sedang belajar algoritama pemrograman\n",
      "7 sedang belajar algoritama pemrograman\n",
      "8 sedang belajar algoritama pemrograman\n",
      "9 sedang belajar algoritama pemrograman\n",
      "10 sedang belajar algoritama pemrograman\n",
      "11 sedang belajar algoritama pemrograman\n",
      "12 sedang belajar algoritama pemrograman\n",
      "13 sedang belajar algoritama pemrograman\n",
      "14 sedang belajar algoritama pemrograman\n",
      "15 sedang belajar algoritama pemrograman\n",
      "16 sedang belajar algoritama pemrograman\n",
      "17 sedang belajar algoritama pemrograman\n",
      "18 sedang belajar algoritama pemrograman\n",
      "19 sedang belajar algoritama pemrograman\n",
      "20 sedang belajar algoritama pemrograman\n",
      "21 sedang belajar algoritama pemrograman\n",
      "22 sedang belajar algoritama pemrograman\n",
      "23 sedang belajar algoritama pemrograman\n",
      "24 sedang belajar algoritama pemrograman\n",
      "25 sedang belajar algoritama pemrograman\n",
      "26 sedang belajar algoritama pemrograman\n",
      "27 sedang belajar algoritama pemrograman\n",
      "28 sedang belajar algoritama pemrograman\n",
      "29 sedang belajar algoritama pemrograman\n",
      "30 sedang belajar algoritama pemrograman\n",
      "31 sedang belajar algoritama pemrograman\n",
      "32 sedang belajar algoritama pemrograman\n",
      "33 sedang belajar algoritama pemrograman\n",
      "34 sedang belajar algoritama pemrograman\n",
      "35 sedang belajar algoritama pemrograman\n",
      "36 sedang belajar algoritama pemrograman\n",
      "37 sedang belajar algoritama pemrograman\n",
      "38 sedang belajar algoritama pemrograman\n",
      "39 sedang belajar algoritama pemrograman\n",
      "40 sedang belajar algoritama pemrograman\n",
      "41 sedang belajar algoritama pemrograman\n",
      "42 sedang belajar algoritama pemrograman\n",
      "43 sedang belajar algoritama pemrograman\n",
      "44 sedang belajar algoritama pemrograman\n",
      "45 sedang belajar algoritama pemrograman\n",
      "46 sedang belajar algoritama pemrograman\n",
      "47 sedang belajar algoritama pemrograman\n",
      "48 sedang belajar algoritama pemrograman\n",
      "49 sedang belajar algoritama pemrograman\n",
      "50 sedang belajar algoritama pemrograman\n",
      "51 sedang belajar algoritama pemrograman\n",
      "52 sedang belajar algoritama pemrograman\n",
      "53 sedang belajar algoritama pemrograman\n",
      "54 sedang belajar algoritama pemrograman\n",
      "55 sedang belajar algoritama pemrograman\n",
      "56 sedang belajar algoritama pemrograman\n",
      "57 sedang belajar algoritama pemrograman\n",
      "58 sedang belajar algoritama pemrograman\n",
      "59 sedang belajar algoritama pemrograman\n",
      "60 sedang belajar algoritama pemrograman\n",
      "61 sedang belajar algoritama pemrograman\n",
      "62 sedang belajar algoritama pemrograman\n",
      "63 sedang belajar algoritama pemrograman\n",
      "64 sedang belajar algoritama pemrograman\n",
      "65 sedang belajar algoritama pemrograman\n",
      "66 sedang belajar algoritama pemrograman\n",
      "67 sedang belajar algoritama pemrograman\n",
      "68 sedang belajar algoritama pemrograman\n",
      "69 sedang belajar algoritama pemrograman\n",
      "70 sedang belajar algoritama pemrograman\n",
      "71 sedang belajar algoritama pemrograman\n",
      "72 sedang belajar algoritama pemrograman\n",
      "73 sedang belajar algoritama pemrograman\n",
      "74 sedang belajar algoritama pemrograman\n",
      "75 sedang belajar algoritama pemrograman\n",
      "76 sedang belajar algoritama pemrograman\n",
      "77 sedang belajar algoritama pemrograman\n",
      "78 sedang belajar algoritama pemrograman\n",
      "79 sedang belajar algoritama pemrograman\n",
      "80 sedang belajar algoritama pemrograman\n",
      "81 sedang belajar algoritama pemrograman\n",
      "82 sedang belajar algoritama pemrograman\n",
      "83 sedang belajar algoritama pemrograman\n",
      "84 sedang belajar algoritama pemrograman\n",
      "85 sedang belajar algoritama pemrograman\n",
      "86 sedang belajar algoritama pemrograman\n",
      "87 sedang belajar algoritama pemrograman\n",
      "88 sedang belajar algoritama pemrograman\n",
      "89 sedang belajar algoritama pemrograman\n",
      "90 sedang belajar algoritama pemrograman\n",
      "91 sedang belajar algoritama pemrograman\n",
      "92 sedang belajar algoritama pemrograman\n",
      "93 sedang belajar algoritama pemrograman\n",
      "94 sedang belajar algoritama pemrograman\n",
      "95 sedang belajar algoritama pemrograman\n",
      "96 sedang belajar algoritama pemrograman\n",
      "97 sedang belajar algoritama pemrograman\n",
      "98 sedang belajar algoritama pemrograman\n",
      "99 sedang belajar algoritama pemrograman\n",
      "100 sedang belajar algoritama pemrograman\n"
     ]
    }
   ],
   "source": [
    "angka = 1\n",
    "\n",
    "for i in range(100):\n",
    "    print(angka, \"sedang belajar algoritama pemrograman\");\n",
    "    angka += 1"
   ]
  },
  {
   "cell_type": "code",
   "execution_count": 30,
   "metadata": {},
   "outputs": [
    {
     "name": "stdout",
     "output_type": "stream",
     "text": [
      "10\n",
      "8\n",
      "6\n",
      "4\n",
      "2\n"
     ]
    }
   ],
   "source": [
    "for i in range(10, 0, -2):\n",
    "    print(i)"
   ]
  },
  {
   "cell_type": "code",
   "execution_count": 25,
   "metadata": {},
   "outputs": [
    {
     "name": "stdout",
     "output_type": "stream",
     "text": [
      "10 Sedang fokus belajar\n",
      "8 Sedang fokus belajar\n",
      "6 Sedang fokus belajar\n",
      "4 Sedang fokus belajar\n",
      "2 Sedang fokus belajar\n",
      "0 Sedang fokus belajar\n",
      "-2 Sedang fokus belajar\n",
      "-4 Sedang fokus belajar\n",
      "-6 Sedang fokus belajar\n",
      "-8 Sedang fokus belajar\n"
     ]
    }
   ],
   "source": [
    "angka = 10\n",
    "for i in range(10):\n",
    "    print(angka, \"Sedang fokus belajar\");\n",
    "    angka -= 2\n"
   ]
  },
  {
   "cell_type": "code",
   "execution_count": 1,
   "metadata": {},
   "outputs": [
    {
     "name": "stdout",
     "output_type": "stream",
     "text": [
      "1\n",
      "2\n",
      "3\n",
      "4\n",
      "5\n",
      "6\n",
      "7\n",
      "8\n",
      "9\n",
      "10\n"
     ]
    }
   ],
   "source": [
    "i = 1\n",
    "while i <= 10:\n",
    "    print(i)\n",
    "    i += 1\n"
   ]
  },
  {
   "cell_type": "code",
   "execution_count": 18,
   "metadata": {},
   "outputs": [
    {
     "name": "stdout",
     "output_type": "stream",
     "text": [
      "Sedang belajar Alpro 0\n",
      "Sedang belajar Alpro 1\n",
      "Sedang belajar Alpro 2\n",
      "Sedang belajar Alpro 3\n",
      "Sedang belajar Alpro 4\n",
      "Sedang belajar Alpro 5\n",
      "Sedang belajar Alpro 6\n",
      "Sedang belajar Alpro 7\n",
      "Sedang belajar Alpro 8\n",
      "Sedang belajar Alpro 9\n",
      "Sedang belajar Alpro 10\n",
      "Sedang belajar Alpro 11\n",
      "Sedang belajar Alpro 12\n",
      "Sedang belajar Alpro 13\n",
      "Sedang belajar Alpro 14\n",
      "Sedang belajar Alpro 15\n",
      "Sedang belajar Alpro 16\n",
      "Sedang belajar Alpro 17\n",
      "Sedang belajar Alpro 18\n",
      "Sedang belajar Alpro 19\n"
     ]
    }
   ],
   "source": [
    "angka = 2\n",
    "for i in range(20):\n",
    "    print(\"Sedang belajar Alpro\", angka);\n",
    "    angka += 1"
   ]
  },
  {
   "cell_type": "code",
   "execution_count": 35,
   "metadata": {},
   "outputs": [
    {
     "name": "stdout",
     "output_type": "stream",
     "text": [
      "0 Akan tampil di browser\n",
      "1 Akan tampil di browser\n",
      "2 Akan tampil di browser\n",
      "3 Akan tampil di browser\n",
      "4 Akan tampil di browser\n",
      "5 Akan tampil di browser\n",
      "6 Akan tampil di browser\n",
      "7 Akan tampil di browser\n",
      "8 Akan tampil di browser\n",
      "9 Akan tampil di browser\n",
      "10 Akan tampil di browser\n"
     ]
    }
   ],
   "source": [
    "i = 0\n",
    "while i <= 10:\n",
    "  print(i, \"Akan tampil di browser\")\n",
    "  i += 1\n"
   ]
  },
  {
   "cell_type": "code",
   "execution_count": 41,
   "metadata": {},
   "outputs": [
    {
     "name": "stdout",
     "output_type": "stream",
     "text": [
      "1\n",
      "2\n",
      "3\n",
      "4\n",
      "5\n"
     ]
    }
   ],
   "source": [
    "i = 0\n",
    "while i <= 10:\n",
    "    i += 1\n",
    "    print(i)\n",
    "    if i == 5:\n",
    "        break\n"
   ]
  },
  {
   "cell_type": "code",
   "execution_count": 43,
   "metadata": {},
   "outputs": [
    {
     "name": "stdout",
     "output_type": "stream",
     "text": [
      "1 3 5 7 9 11 13 15 17 19 "
     ]
    }
   ],
   "source": [
    "n = int(input(\"Masukkan jumlah bilangan ganjil yang ingin ditampilkan: \"))\n",
    "i = 1\n",
    "\n",
    "while i <= (n * 2):\n",
    "    if i % 2 == 1:\n",
    "        print(i, end=\" \")\n",
    "    i += 1\n"
   ]
  },
  {
   "cell_type": "code",
   "execution_count": null,
   "metadata": {},
   "outputs": [],
   "source": []
  }
 ],
 "metadata": {
  "kernelspec": {
   "display_name": "Python 3",
   "language": "python",
   "name": "python3"
  },
  "language_info": {
   "codemirror_mode": {
    "name": "ipython",
    "version": 3
   },
   "file_extension": ".py",
   "mimetype": "text/x-python",
   "name": "python",
   "nbconvert_exporter": "python",
   "pygments_lexer": "ipython3",
   "version": "3.10.12"
  },
  "orig_nbformat": 4,
  "vscode": {
   "interpreter": {
    "hash": "31f2aee4e71d21fbe5cf8b01ff0e069b9275f58929596ceb00d14d90e3e16cd6"
   }
  }
 },
 "nbformat": 4,
 "nbformat_minor": 2
}
