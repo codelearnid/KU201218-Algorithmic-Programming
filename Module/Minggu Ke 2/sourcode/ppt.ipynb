{
 "cells": [
  {
   "cell_type": "code",
   "execution_count": 8,
   "metadata": {},
   "outputs": [],
   "source": [
    "# Inisialisasi count\n",
    "count = 7\n",
    "\n",
    "# Loop while count kurang dari 6\n",
    "while count < 6:\n",
    "    # Cetak nilai count\n",
    "    print(count)\n",
    "\n",
    "    # Tambahkan 1 ke count\n",
    "    count = count + 1\n"
   ]
  },
  {
   "cell_type": "code",
   "execution_count": 3,
   "metadata": {},
   "outputs": [
    {
     "name": "stdout",
     "output_type": "stream",
     "text": [
      "7\n"
     ]
    }
   ],
   "source": [
    "# Membaca input untuk x, y, dan z\n",
    "x = int(input(\"Masukkan nilai x: \"))\n",
    "y = int(input(\"Masukkan nilai y: \"))\n",
    "z = int(input(\"Masukkan nilai z: \"))\n",
    "\n",
    "# Mengecek kondisi\n",
    "if x == y:\n",
    "    print(x)\n",
    "else:\n",
    "    if y < z:\n",
    "        print(y)\n",
    "    else:\n",
    "        print(z)\n"
   ]
  },
  {
   "cell_type": "code",
   "execution_count": 1,
   "metadata": {},
   "outputs": [
    {
     "name": "stdout",
     "output_type": "stream",
     "text": [
      "8\n"
     ]
    }
   ],
   "source": [
    "# Membaca input untuk x, y, dan z\n",
    "x = 4\n",
    "y = 12\n",
    "z = 10\n",
    "\n",
    "# Mengecek kondisi / percabangan\n",
    "if x == y: #kondisi \n",
    "    print(x)\n",
    "else:\n",
    "    if y < z: #kondisi \n",
    "        print(y) \n",
    "    else:\n",
    "        print(z)\n"
   ]
  },
  {
   "cell_type": "code",
   "execution_count": 6,
   "metadata": {},
   "outputs": [
    {
     "name": "stdout",
     "output_type": "stream",
     "text": [
      "30\n"
     ]
    }
   ],
   "source": [
    "p = int(input(\"Masukkan nilai panjang: \"))\n",
    "l = int(input(\"Masukkan nilai lebar: \"))\n",
    "luas = p * l\n",
    "print(luas)"
   ]
  },
  {
   "cell_type": "code",
   "execution_count": null,
   "metadata": {},
   "outputs": [],
   "source": []
  }
 ],
 "metadata": {
  "kernelspec": {
   "display_name": "myenv",
   "language": "python",
   "name": "python3"
  },
  "language_info": {
   "codemirror_mode": {
    "name": "ipython",
    "version": 3
   },
   "file_extension": ".py",
   "mimetype": "text/x-python",
   "name": "python",
   "nbconvert_exporter": "python",
   "pygments_lexer": "ipython3",
   "version": "3.11.7"
  }
 },
 "nbformat": 4,
 "nbformat_minor": 2
}
