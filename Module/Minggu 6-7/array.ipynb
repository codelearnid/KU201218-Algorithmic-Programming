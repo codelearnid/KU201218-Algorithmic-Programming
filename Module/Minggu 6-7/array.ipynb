{
 "cells": [
  {
   "cell_type": "code",
   "execution_count": 5,
   "metadata": {},
   "outputs": [
    {
     "name": "stdout",
     "output_type": "stream",
     "text": [
      "Sari\n"
     ]
    }
   ],
   "source": [
    "siswa = [\"Andri\", \"Joko\", \"Sukma\", \"Rina\", \"Sari\"]\n",
    "\n",
    "print(siswa[4])  # Output: Joko\n"
   ]
  },
  {
   "cell_type": "code",
   "execution_count": 6,
   "metadata": {},
   "outputs": [
    {
     "name": "stdout",
     "output_type": "stream",
     "text": [
      "Joko\n"
     ]
    }
   ],
   "source": [
    "siswa = (\"Andri\", \"Joko\", \"Sukma\", \"Rina\", \"Sari\")\n",
    "\n",
    "print(siswa[1])  # Output: Joko\n"
   ]
  },
  {
   "cell_type": "code",
   "execution_count": 1,
   "metadata": {},
   "outputs": [
    {
     "name": "stdout",
     "output_type": "stream",
     "text": [
      "dika\n"
     ]
    }
   ],
   "source": [
    "siswa1 = \"arif\"\n",
    "siswa2 = \"dika\"\n",
    "siswa3 = \"Luna\"\n",
    "\n",
    "print(siswa2)\n"
   ]
  },
  {
   "cell_type": "code",
   "execution_count": 7,
   "metadata": {},
   "outputs": [
    {
     "name": "stdout",
     "output_type": "stream",
     "text": [
      "Sukma\n",
      "Murid itu bernama Andri\n"
     ]
    }
   ],
   "source": [
    "siswa = [\"Andri\", \"Joko\", \"Sukma\", \"Rina\", \"Sari\"]\n",
    "\n",
    "print(siswa[2])  # Output: Sukma\n",
    "print(\"Murid itu bernama\", siswa[0])  # Output: Murid itu bernama Andri\n"
   ]
  },
  {
   "cell_type": "code",
   "execution_count": 3,
   "metadata": {},
   "outputs": [
    {
     "name": "stdout",
     "output_type": "stream",
     "text": [
      "121\n",
      "Joko\n",
      "44.99\n",
      "Belajar PHP\n",
      "True\n"
     ]
    }
   ],
   "source": [
    "macam2 = [121, \"Joko\", 44.99, \"Belajar PHP\", True]\n",
    "\n",
    "print(macam2[0])  # Output: 121\n",
    "print(macam2[1])  # Output: Joko\n",
    "print(macam2[2])  # Output: 44.99\n",
    "print(macam2[3])  # Output: Belajar PHP\n",
    "print(macam2[4])  # Output: True\n"
   ]
  },
  {
   "cell_type": "code",
   "execution_count": 4,
   "metadata": {},
   "outputs": [
    {
     "name": "stdout",
     "output_type": "stream",
     "text": [
      "[121, 'Joko', 44.99, 'Belajar PHP', 'codelearn', 212, 3.14]\n"
     ]
    }
   ],
   "source": [
    "macam2 = [121, \"Joko\", 44.99, \"Belajar Python\"]\n",
    "macam2.append(\"codelearn\")\n",
    "macam2.append(212)\n",
    "macam2.append(3.14)\n",
    "\n",
    "print(macam2)\n"
   ]
  },
  {
   "cell_type": "code",
   "execution_count": 10,
   "metadata": {},
   "outputs": [
    {
     "name": "stdout",
     "output_type": "stream",
     "text": [
      "8\n",
      "2\n",
      "7\n",
      "4\n",
      "2\n"
     ]
    }
   ],
   "source": [
    "koordinat = [\n",
    "                [8, 2],\n",
    "                [2, 4],\n",
    "                [1, 7]\n",
    "            ]\n",
    "\n",
    "print(koordinat[0][0])  # 8\n",
    "print(koordinat[0][1])  # 2\n",
    "print(koordinat[2][1])  # 7\n",
    "print(koordinat[1][1])\n",
    "print(koordinat[1][0])\n"
   ]
  },
  {
   "cell_type": "code",
   "execution_count": 6,
   "metadata": {},
   "outputs": [
    {
     "name": "stdout",
     "output_type": "stream",
     "text": [
      "[[8, 2], [2, 4], [1, 7]]\n"
     ]
    }
   ],
   "source": [
    "koordinat = [[8, 2], [2, 4], [1, 7]]\n",
    "\n",
    "print(koordinat)\n"
   ]
  },
  {
   "cell_type": "code",
   "execution_count": 7,
   "metadata": {},
   "outputs": [
    {
     "name": "stdout",
     "output_type": "stream",
     "text": [
      "[[8, 2], [2, 4], [1, 7]]\n"
     ]
    }
   ],
   "source": [
    "from pprint import pprint\n",
    "\n",
    "koordinat = [[8, 2], [2, 4], [1, 7]]\n",
    "\n",
    "pprint(koordinat)\n"
   ]
  },
  {
   "cell_type": "code",
   "execution_count": 11,
   "metadata": {},
   "outputs": [
    {
     "name": "stdout",
     "output_type": "stream",
     "text": [
      "A\n",
      "B\n",
      "C\n",
      "D\n"
     ]
    }
   ],
   "source": [
    "koordinat = [\n",
    "                [[\"A\"], [\"B\"]],\n",
    "                [[\"C\"], [\"D\"]],\n",
    "            ]\n",
    "\n",
    "print(koordinat[0][0][0])    # A\n",
    "print(koordinat[0][1][0])    # B\n",
    "print(koordinat[1][0][0])    # C\n",
    "print(koordinat[1][1][0])    # D\n"
   ]
  },
  {
   "cell_type": "code",
   "execution_count": 12,
   "metadata": {},
   "outputs": [
    {
     "name": "stdout",
     "output_type": "stream",
     "text": [
      "Joko\n",
      "Rina\n"
     ]
    }
   ],
   "source": [
    "siswa = {\n",
    "    \"satu\": \"Andri\",\n",
    "    \"dua\": \"Joko\",\n",
    "    \"tiga\": \"Sukma\",\n",
    "    \"empat\": \"Rina\"\n",
    "}\n",
    "\n",
    "print(siswa[\"dua\"])   # Joko\n",
    "print(siswa[\"empat\"]) # Rina\n"
   ]
  },
  {
   "cell_type": "code",
   "execution_count": 10,
   "metadata": {},
   "outputs": [
    {
     "name": "stdout",
     "output_type": "stream",
     "text": [
      "Joko\n",
      "Rina\n"
     ]
    }
   ],
   "source": [
    "siswa = {\n",
    "    \"satu\": \"Andri\",\n",
    "    \"dua\": \"Joko\",\n",
    "    \"tiga\": \"Sukma\",\n",
    "    \"empat\": \"Rina\"\n",
    "}\n",
    "\n",
    "print(siswa[\"dua\"])   # Joko\n",
    "print(siswa[\"empat\"]) # Rina\n"
   ]
  },
  {
   "cell_type": "code",
   "execution_count": 13,
   "metadata": {},
   "outputs": [
    {
     "name": "stdout",
     "output_type": "stream",
     "text": [
      "{'satu': 10000, 'dua': 'Duniailkom', 4: 'Belajar PHP', 1000: 'Jadi programmer', 'baru': 'Data Baru', 99: 'Sembilan puluh sembilan', '': 123456}\n"
     ]
    }
   ],
   "source": [
    "assoc = {\n",
    "    \"satu\": 10000,\n",
    "    \"dua\": \"Duniailkom\",\n",
    "    4: \"Belajar PHP\",\n",
    "    1000: \"Jadi programmer\"\n",
    "}\n",
    "\n",
    "assoc[\"baru\"] = \"Data Baru\"\n",
    "assoc[99] = \"Sembilan puluh sembilan\"\n",
    "\n",
    "# Menambahkan elemen tanpa memberikan indeks, Python secara otomatis memberikan indeks berupa angka integer\n",
    "assoc[\"\"] = \"Ini akan pakai index berapa?\"\n",
    "assoc[\"\"] = 123456\n",
    "\n",
    "print(assoc)\n"
   ]
  },
  {
   "cell_type": "code",
   "execution_count": 14,
   "metadata": {},
   "outputs": [
    {
     "name": "stdout",
     "output_type": "stream",
     "text": [
      "Tia\n",
      "Alex\n",
      "Yanto\n",
      "{'kelas_x': ['Santi', 'Yanto', 'Reza'], 'kelas_xi': ['Tia', 'Siska', 'Nova'], 'kelas_xii': ['Robert', 'Rudi', 'Alex']}\n"
     ]
    }
   ],
   "source": [
    "siswa = {\n",
    "    \"kelas_x\": [\"Santi\", \"Yanto\", \"Reza\"],\n",
    "    \"kelas_xi\": [\"Tia\", \"Siska\", \"Nova\"],\n",
    "    \"kelas_xii\": [\"Robert\", \"Rudi\", \"Alex\"]\n",
    "}\n",
    "\n",
    "print(siswa[\"kelas_xi\"][0])  # Tia\n",
    "print(siswa[\"kelas_xii\"][2])  # Alex\n",
    "print(siswa[\"kelas_x\"][1])    # Yanto\n",
    "\n",
    "print(siswa)\n"
   ]
  },
  {
   "cell_type": "code",
   "execution_count": null,
   "metadata": {},
   "outputs": [],
   "source": []
  }
 ],
 "metadata": {
  "kernelspec": {
   "display_name": "myenv",
   "language": "python",
   "name": "python3"
  },
  "language_info": {
   "codemirror_mode": {
    "name": "ipython",
    "version": 3
   },
   "file_extension": ".py",
   "mimetype": "text/x-python",
   "name": "python",
   "nbconvert_exporter": "python",
   "pygments_lexer": "ipython3",
   "version": "3.11.7"
  }
 },
 "nbformat": 4,
 "nbformat_minor": 2
}
