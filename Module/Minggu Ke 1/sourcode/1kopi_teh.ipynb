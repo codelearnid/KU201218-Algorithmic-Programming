{
 "cells": [
  {
   "cell_type": "code",
   "execution_count": 1,
   "metadata": {},
   "outputs": [
    {
     "name": "stdout",
     "output_type": "stream",
     "text": [
      "700 600 0\n"
     ]
    }
   ],
   "source": [
    "#anggap volume gelas 800ml\n",
    "kopi = 700 #700ml\n",
    "teh = 600 #600ml\n",
    "gelas_kosong = 0\n",
    "print(kopi , teh , gelas_kosong)"
   ]
  },
  {
   "cell_type": "code",
   "execution_count": 7,
   "metadata": {},
   "outputs": [
    {
     "name": "stdout",
     "output_type": "stream",
     "text": [
      "600 700 0\n"
     ]
    }
   ],
   "source": [
    "kopi, teh = teh, kopi\n",
    "print(kopi, teh, gelas_kosong)"
   ]
  },
  {
   "cell_type": "code",
   "execution_count": 8,
   "metadata": {},
   "outputs": [
    {
     "name": "stdout",
     "output_type": "stream",
     "text": [
      "600 700 700\n"
     ]
    }
   ],
   "source": [
    "gelas_kosong = teh #700ml\n",
    "teh = kopi #600ml\n",
    "kopi = gelas_kosong #700ml\n",
    "print(teh , kopi, gelas_kosong)\n"
   ]
  },
  {
   "cell_type": "code",
   "execution_count": null,
   "metadata": {},
   "outputs": [],
   "source": []
  }
 ],
 "metadata": {
  "kernelspec": {
   "display_name": "Python 3",
   "language": "python",
   "name": "python3"
  },
  "language_info": {
   "codemirror_mode": {
    "name": "ipython",
    "version": 3
   },
   "file_extension": ".py",
   "mimetype": "text/x-python",
   "name": "python",
   "nbconvert_exporter": "python",
   "pygments_lexer": "ipython3",
   "version": "3.11.7"
  },
  "orig_nbformat": 4,
  "vscode": {
   "interpreter": {
    "hash": "31f2aee4e71d21fbe5cf8b01ff0e069b9275f58929596ceb00d14d90e3e16cd6"
   }
  }
 },
 "nbformat": 4,
 "nbformat_minor": 2
}
