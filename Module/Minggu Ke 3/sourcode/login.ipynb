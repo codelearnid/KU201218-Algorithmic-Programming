{
 "cells": [
  {
   "cell_type": "code",
   "execution_count": 3,
   "metadata": {},
   "outputs": [
    {
     "name": "stdout",
     "output_type": "stream",
     "text": [
      "3 adalah angka ganjil\n"
     ]
    }
   ],
   "source": [
    "a = int(input(\"Masukkan angka: \"))\n",
    "\n",
    "if a % 2 == 0:\n",
    "    print(f\"{a} adalah angka genap\")\n",
    "else:\n",
    "    print(f\"{a} adalah angka ganjil\")\n"
   ]
  },
  {
   "cell_type": "code",
   "execution_count": 5,
   "metadata": {},
   "outputs": [
    {
     "name": "stdout",
     "output_type": "stream",
     "text": [
      "Selamat datang Admin!\n"
     ]
    }
   ],
   "source": [
    "user = input(\"Masukkan jenis pengguna (admin/user/guest): \")\n",
    "\n",
    "if user == \"admin\":\n",
    "    print(\"Selamat datang Admin!\")\n",
    "elif user == \"user\":\n",
    "    print(\"Selamat datang User\")\n",
    "elif user == \"guest\":\n",
    "    print(\"Selamat datang Tamu\")\n",
    "else:\n",
    "    print(\"Maaf, saya tidak kenal anda\")"
   ]
  },
  {
   "cell_type": "code",
   "execution_count": 8,
   "metadata": {},
   "outputs": [
    {
     "name": "stdout",
     "output_type": "stream",
     "text": [
      "Nama dan password tidak sesuai!\n"
     ]
    }
   ],
   "source": [
    "username = input(\"Masukkan username: \")\n",
    "password = input(\"Masukkan password: \")\n",
    "\n",
    "if username == \"admin\" and password == \"qwerty\":\n",
    "    print(\"Nama dan password sesuai, hak akses diberikan..\")\n",
    "elif username == \"admin\" and password != \"qwerty\":\n",
    "    print(\"Nama sesuai, password tidak sesuai!\")\n",
    "elif username != \"admin\" and password == \"qwerty\":\n",
    "    print(\"Nama tidak sesuai, password sesuai!\")\n",
    "else:\n",
    "    print(\"Nama dan password tidak sesuai!\")\n"
   ]
  },
  {
   "cell_type": "code",
   "execution_count": 11,
   "metadata": {},
   "outputs": [
    {
     "name": "stdout",
     "output_type": "stream",
     "text": [
      "Nama dan password tidak sesuai!\n"
     ]
    }
   ],
   "source": [
    "username = input(\"Masukkan username: \")\n",
    "password = input(\"Masukkan password: \")\n",
    "\n",
    "if username == \"admin\":\n",
    "    if password == \"qwerty\":\n",
    "        print(\"Nama dan password sesuai, hak akses diberikan..\")\n",
    "    else:\n",
    "        print(\"Nama sesuai, password tidak sesuai!\")\n",
    "elif password == \"qwerty\":\n",
    "    print(\"Nama tidak sesuai, password sesuai!\")\n",
    "else:\n",
    "    print(\"Nama dan password tidak sesuai!\")\n"
   ]
  },
  {
   "cell_type": "code",
   "execution_count": 4,
   "metadata": {},
   "outputs": [
    {
     "name": "stdout",
     "output_type": "stream",
     "text": [
      "Aksi n-1\n",
      "Aksi n\n"
     ]
    }
   ],
   "source": [
    "# Contoh kondisi\n",
    "kondisi_1 = False\n",
    "kondisi_2 = False\n",
    "kondisi_3 = False\n",
    "\n",
    "# Struktur kondisional bersarang\n",
    "if kondisi_1:\n",
    "    aksi_1 = \"Aksi 1\"\n",
    "    print(aksi_1)\n",
    "else:\n",
    "    if kondisi_2:\n",
    "        aksi_2 = \"Aksi 2\"\n",
    "        print(aksi_2)\n",
    "    else:\n",
    "        if kondisi_3:\n",
    "            aksi_3 = \"Aksi 3\"\n",
    "            print(aksi_3)\n",
    "        else:\n",
    "            # Lanjutan kondisi\n",
    "            aksi_n_minus_1 = \"Aksi n-1\"\n",
    "            print(aksi_n_minus_1)\n",
    "\n",
    "            # Kondisi terakhir\n",
    "            kondisi_n = True\n",
    "            if kondisi_n:\n",
    "                aksi_n = \"Aksi n\"\n",
    "                print(aksi_n)\n",
    "            else:\n",
    "                print(\"Tidak ada aksi yang cocok\")\n"
   ]
  },
  {
   "cell_type": "code",
   "execution_count": null,
   "metadata": {},
   "outputs": [],
   "source": []
  }
 ],
 "metadata": {
  "kernelspec": {
   "display_name": "Python 3",
   "language": "python",
   "name": "python3"
  },
  "language_info": {
   "codemirror_mode": {
    "name": "ipython",
    "version": 3
   },
   "file_extension": ".py",
   "mimetype": "text/x-python",
   "name": "python",
   "nbconvert_exporter": "python",
   "pygments_lexer": "ipython3",
   "version": "3.11.7"
  },
  "orig_nbformat": 4,
  "vscode": {
   "interpreter": {
    "hash": "31f2aee4e71d21fbe5cf8b01ff0e069b9275f58929596ceb00d14d90e3e16cd6"
   }
  }
 },
 "nbformat": 4,
 "nbformat_minor": 2
}
