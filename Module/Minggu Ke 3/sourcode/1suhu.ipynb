{
 "cells": [
  {
   "cell_type": "code",
   "execution_count": 6,
   "metadata": {},
   "outputs": [
    {
     "name": "stdout",
     "output_type": "stream",
     "text": [
      "tidak padat\n"
     ]
    }
   ],
   "source": [
    "suhu = int(input(\"Masukkan suhu: \"))\n",
    "\n",
    "if suhu == 0:\n",
    "    print(\"padat\")\n",
    "elif suhu > 1:\n",
    "    print(\"cair\")\n",
    "else:\n",
    "    print(\"tidak padat\")"
   ]
  },
  {
   "cell_type": "code",
   "execution_count": null,
   "metadata": {},
   "outputs": [],
   "source": []
  }
 ],
 "metadata": {
  "kernelspec": {
   "display_name": "AlgPro",
   "language": "python",
   "name": "python3"
  },
  "language_info": {
   "codemirror_mode": {
    "name": "ipython",
    "version": 3
   },
   "file_extension": ".py",
   "mimetype": "text/x-python",
   "name": "python",
   "nbconvert_exporter": "python",
   "pygments_lexer": "ipython3",
   "version": "3.11.7"
  },
  "orig_nbformat": 4,
  "vscode": {
   "interpreter": {
    "hash": "b8514760aacc8ff5638784665e33bbbe8badfdc754bc6cff5d3b601dc22bd990"
   }
  }
 },
 "nbformat": 4,
 "nbformat_minor": 2
}
